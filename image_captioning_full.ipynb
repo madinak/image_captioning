{
  "cells": [
    {
      "cell_type": "markdown",
      "metadata": {
        "id": "view-in-github",
        "colab_type": "text"
      },
      "source": [
        "<a href=\"https://colab.research.google.com/github/madinak/image_captioning/blob/main/image_captioning_full.ipynb\" target=\"_parent\"><img src=\"https://colab.research.google.com/assets/colab-badge.svg\" alt=\"Open In Colab\"/></a>"
      ]
    },
    {
      "cell_type": "code",
      "execution_count": null,
      "metadata": {
        "id": "6XkTo__YZ6sA"
      },
      "outputs": [],
      "source": [
        "import tensorflow as tf\n",
        "from keras.preprocessing.text import Tokenizer\n",
        "from tqdm import tqdm\n",
        "\n",
        "from tensorflow import keras\n",
        "from tensorflow.keras import layers\n",
        "from tensorflow.keras.layers import TextVectorization"
      ]
    },
    {
      "cell_type": "code",
      "execution_count": null,
      "metadata": {
        "id": "mE6X_otzaE9L"
      },
      "outputs": [],
      "source": [
        "import collections\n",
        "from collections import Counter\n",
        "import random\n",
        "import numpy as np\n",
        "import os\n",
        "import time\n",
        "import json\n",
        "import re\n",
        "import glob\n",
        "from PIL import Image\n",
        "import matplotlib.pyplot as plt\n",
        "import matplotlib.image as mpimg\n",
        "%matplotlib inline"
      ]
    },
    {
      "cell_type": "markdown",
      "metadata": {
        "id": "RfrWzNjsp_--"
      },
      "source": [
        "## Download and prepare dataset"
      ]
    },
    {
      "cell_type": "code",
      "execution_count": null,
      "metadata": {
        "colab": {
          "base_uri": "https://localhost:8080/"
        },
        "id": "sxQZDANCaE53",
        "outputId": "6079f693-81c2-43e2-9f2a-036dd01fd2c1"
      },
      "outputs": [
        {
          "output_type": "stream",
          "name": "stdout",
          "text": [
            "Downloading data from http://images.cocodataset.org/zips/train2014.zip\n",
            "13510574080/13510573713 [==============================] - 804s 0us/step\n",
            "13510582272/13510573713 [==============================] - 804s 0us/step\n"
          ]
        }
      ],
      "source": [
        "# Download training image files\n",
        "train_image_folder = '/train2014/'\n",
        "if not os.path.exists(os.path.abspath('.') + train_image_folder):\n",
        "    train_image_zip = tf.keras.utils.get_file('train2014.zip',\n",
        "                                      cache_subdir=os.path.abspath('.'),\n",
        "                                      origin='http://images.cocodataset.org/zips/train2014.zip',\n",
        "                                      extract=True)\n",
        "    train_path = os.path.dirname(train_image_zip) + train_image_folder\n",
        "    os.remove(train_image_zip)\n",
        "else:\n",
        "    train_path = os.path.abspath('.') + train_image_folder"
      ]
    },
    {
      "cell_type": "code",
      "execution_count": null,
      "metadata": {
        "colab": {
          "base_uri": "https://localhost:8080/"
        },
        "id": "luBawbIRcFis",
        "outputId": "b2413c0a-c696-4e4f-868c-55f77f426591"
      },
      "outputs": [
        {
          "output_type": "stream",
          "name": "stdout",
          "text": [
            "Downloading data from http://images.cocodataset.org/zips/val2014.zip\n",
            "6645014528/6645013297 [==============================] - 389s 0us/step\n",
            "6645022720/6645013297 [==============================] - 389s 0us/step\n"
          ]
        }
      ],
      "source": [
        "# Download validation image files\n",
        "val_image_folder = '/val2014/'\n",
        "if not os.path.exists(os.path.abspath('.') + val_image_folder):\n",
        "    val_image_zip = tf.keras.utils.get_file('val2014.zip',\n",
        "                                      cache_subdir=os.path.abspath('.'),\n",
        "                                      origin='http://images.cocodataset.org/zips/val2014.zip',\n",
        "                                      extract=True)\n",
        "    val_path = os.path.dirname(val_image_zip) + val_image_folder\n",
        "    os.remove(val_image_zip)\n",
        "else:\n",
        "    val_path = os.path.abspath('.') + val_image_folder"
      ]
    },
    {
      "cell_type": "code",
      "execution_count": null,
      "metadata": {
        "colab": {
          "base_uri": "https://localhost:8080/"
        },
        "id": "HKwB5R-aaE3P",
        "outputId": "c5ce6c86-4f47-43cd-e812-34292f48432b"
      },
      "outputs": [
        {
          "output_type": "stream",
          "name": "stdout",
          "text": [
            "Downloading data from http://images.cocodataset.org/annotations/annotations_trainval2014.zip\n",
            "252878848/252872794 [==============================] - 16s 0us/step\n",
            "252887040/252872794 [==============================] - 16s 0us/step\n"
          ]
        }
      ],
      "source": [
        "# Download caption annotation files\n",
        "annotation_folder = '/annotations/'\n",
        "if not os.path.exists(os.path.abspath('.') + annotation_folder):\n",
        "    annotation_zip = tf.keras.utils.get_file('captions.zip',\n",
        "                                           cache_subdir=os.path.abspath('.'),\n",
        "                                           origin='http://images.cocodataset.org/annotations/annotations_trainval2014.zip',\n",
        "                                           extract=True)\n",
        "    train_annot = os.path.dirname(annotation_zip)+'/annotations/captions_train2014.json'\n",
        "    val_annot = os.path.dirname(annotation_zip)+'/annotations/captions_val2014.json'\n",
        "    os.remove(annotation_zip)"
      ]
    },
    {
      "cell_type": "code",
      "execution_count": null,
      "metadata": {
        "id": "gVuBnL0kaE0r"
      },
      "outputs": [],
      "source": [
        "train_path = 'train2014/'\n",
        "\n",
        "val_path = 'val2014/'\n",
        "\n",
        "train_annot_path = 'annotations/captions_train2014.json'\n",
        "val_annot_path = 'annotations/captions_val2014.json'"
      ]
    },
    {
      "cell_type": "code",
      "execution_count": null,
      "metadata": {
        "id": "qJPPyhnXaEzE"
      },
      "outputs": [],
      "source": [
        "with open(train_annot_path, 'r') as f:\n",
        "    train_annot = json.load(f)"
      ]
    },
    {
      "cell_type": "code",
      "execution_count": null,
      "metadata": {
        "id": "-SZpg9gXzi39"
      },
      "outputs": [],
      "source": [
        "with open(val_annot_path, 'r') as f:\n",
        "    val_annot = json.load(f)"
      ]
    },
    {
      "cell_type": "code",
      "execution_count": null,
      "metadata": {
        "id": "BzMa2izbaEvU"
      },
      "outputs": [],
      "source": [
        "# train images\n",
        "train_images = train_annot['images']\n",
        "train_captions = train_annot['annotations']"
      ]
    },
    {
      "cell_type": "code",
      "execution_count": null,
      "metadata": {
        "id": "8gdlhX2faEsl"
      },
      "outputs": [],
      "source": [
        "# group train annotations by image\n",
        "train_dict = collections.defaultdict(list)\n",
        "for x in train_captions:\n",
        "    caption = f\"<start> {x['caption']} <end>\"\n",
        "    image_path = train_path + 'COCO_train2014_' + '%012d.jpg' % (x['image_id'])\n",
        "    train_dict[image_path].append(caption)"
      ]
    },
    {
      "cell_type": "code",
      "execution_count": null,
      "metadata": {
        "id": "BLmnHH9laEp7"
      },
      "outputs": [],
      "source": [
        "sorted(train_dict.items())[:2]"
      ]
    },
    {
      "cell_type": "code",
      "execution_count": null,
      "metadata": {
        "id": "JKN3r5NLzeOZ"
      },
      "outputs": [],
      "source": [
        "# validation\n",
        "val_images = val_annot['images']\n",
        "val_captions = val_annot['annotations']"
      ]
    },
    {
      "cell_type": "code",
      "execution_count": null,
      "metadata": {
        "id": "NBHg6IJmzmZe"
      },
      "outputs": [],
      "source": [
        "# group all val annotations by image\n",
        "val_dict = collections.defaultdict(list)\n",
        "for x in val_captions:\n",
        "    \n",
        "    caption = f\"<start> {x['caption']} <end>\"\n",
        "    val_image_path = val_path + 'COCO_val2014_' + '%012d.jpg' % (x['image_id'])\n",
        "    val_dict[val_image_path].append(caption)"
      ]
    },
    {
      "cell_type": "code",
      "execution_count": null,
      "metadata": {
        "id": "7vSw9Ev9aEm1"
      },
      "outputs": [],
      "source": [
        "def filter_dict(dict_):\n",
        "    new_dict = dict()\n",
        "    # Iterate over all the items in dictionary\n",
        "    for key, value in dict_.items():\n",
        "      if len(value) == 5:\n",
        "        new_dict[key] = value\n",
        "    return new_dict"
      ]
    },
    {
      "cell_type": "code",
      "execution_count": null,
      "metadata": {
        "colab": {
          "base_uri": "https://localhost:8080/"
        },
        "id": "5D8lS5XZaEkG",
        "outputId": "b2862071-9cbe-4c72-e160-8f62881e0a0d"
      },
      "outputs": [
        {
          "output_type": "stream",
          "name": "stdout",
          "text": [
            "preprocessed captions lengths 82783 -> 82586\n"
          ]
        }
      ],
      "source": [
        "final_train_dict = filter_dict(train_dict)\n",
        "print('preprocessed captions lengths %d -> %d' % (len(train_dict.keys()), len(final_train_dict.keys())))"
      ]
    },
    {
      "cell_type": "code",
      "execution_count": null,
      "metadata": {
        "colab": {
          "base_uri": "https://localhost:8080/"
        },
        "id": "KGVRvD2m0LB0",
        "outputId": "b32db718-4a98-4494-9bb4-ad23296b7061"
      },
      "outputs": [
        {
          "output_type": "stream",
          "name": "stdout",
          "text": [
            "preprocessed captions lengths 40504 -> 40373\n"
          ]
        }
      ],
      "source": [
        "final_val_dict = filter_dict(val_dict)\n",
        "print('preprocessed captions lengths %d -> %d' % (len(val_dict.keys()), len(final_val_dict.keys())))"
      ]
    },
    {
      "cell_type": "code",
      "execution_count": null,
      "metadata": {
        "id": "QXmmjKzlsqiC"
      },
      "outputs": [],
      "source": [
        "sorted(final_train_dict.items())[:2]"
      ]
    },
    {
      "cell_type": "code",
      "execution_count": null,
      "metadata": {
        "id": "3qgXxAFQ0Yxa"
      },
      "outputs": [],
      "source": [
        "sorted(final_val_dict.items())[:2]"
      ]
    },
    {
      "cell_type": "code",
      "execution_count": null,
      "metadata": {
        "colab": {
          "base_uri": "https://localhost:8080/"
        },
        "id": "NQM62H6SaEhU",
        "outputId": "d0e4395b-f91b-4c7c-a94b-89b2bbcbf79f"
      },
      "outputs": [
        {
          "output_type": "stream",
          "name": "stdout",
          "text": [
            "82586\n",
            "40373\n"
          ]
        }
      ],
      "source": [
        "print(len(list(final_train_dict.keys())))\n",
        "print(len(list(final_val_dict.keys())))"
      ]
    },
    {
      "cell_type": "code",
      "execution_count": null,
      "metadata": {
        "id": "0VO9ZDv40iyH"
      },
      "outputs": [],
      "source": [
        "train_keys = list(final_train_dict.keys())"
      ]
    },
    {
      "cell_type": "code",
      "execution_count": null,
      "metadata": {
        "colab": {
          "base_uri": "https://localhost:8080/"
        },
        "id": "AmOhzVPOzmKn",
        "outputId": "ccd5f20b-e8b4-40a2-8b29-242b3f10cb1b"
      },
      "outputs": [
        {
          "output_type": "stream",
          "name": "stdout",
          "text": [
            "5000\n",
            "5000\n"
          ]
        }
      ],
      "source": [
        "valid_image_keys = list(final_val_dict.keys())\n",
        "random.shuffle(valid_image_keys)\n",
        "\n",
        "# Select the first 5000 image_paths for validation\n",
        "val_keys = valid_image_keys[:5000]\n",
        "print(len(val_keys))\n",
        "\n",
        "# Select the last 5000 image_paths for test\n",
        "test_keys = valid_image_keys[-5000:]\n",
        "print(len(test_keys))"
      ]
    },
    {
      "cell_type": "code",
      "execution_count": null,
      "metadata": {
        "id": "nh88dgDEaEZT"
      },
      "outputs": [],
      "source": [
        "# save as json for future use\n",
        "with open('train_keys.json', 'w') as f:\n",
        "    json.dump(train_keys, f)"
      ]
    },
    {
      "cell_type": "code",
      "execution_count": null,
      "metadata": {
        "id": "b3UEIC8haEW7"
      },
      "outputs": [],
      "source": [
        "with open('val_keys.json', 'w') as f:\n",
        "    json.dump(val_keys, f)"
      ]
    },
    {
      "cell_type": "code",
      "execution_count": null,
      "metadata": {
        "id": "WsKztDjGROFq"
      },
      "outputs": [],
      "source": [
        "with open('test_keys.json', 'w') as f:\n",
        "    json.dump(test_keys, f)"
      ]
    },
    {
      "cell_type": "code",
      "execution_count": null,
      "metadata": {
        "id": "peJnnbAUaEUI"
      },
      "outputs": [],
      "source": [
        "# open train_keys json \n",
        "with open('train_keys.json', 'r') as f:\n",
        "    train_keys = json.load(f)"
      ]
    },
    {
      "cell_type": "code",
      "execution_count": null,
      "metadata": {
        "id": "Z-B_ZF-aaERT"
      },
      "outputs": [],
      "source": [
        "# open val_keys json \n",
        "with open('val_keys.json', 'r') as f:\n",
        "    val_keys = json.load(f)"
      ]
    },
    {
      "cell_type": "code",
      "source": [
        "# open test_keys json \n",
        "with open('test_keys.json', 'r') as f:\n",
        "    test_keys = json.load(f)"
      ],
      "metadata": {
        "id": "3CQHcXsWiiSc"
      },
      "execution_count": null,
      "outputs": []
    },
    {
      "cell_type": "code",
      "execution_count": null,
      "metadata": {
        "id": "R916H6Rdp-N7"
      },
      "outputs": [],
      "source": [
        "def subset(data_dict, image_names):\n",
        "    subset_dict = {image_name:captions for image_name, captions in data_dict.items() if image_name in image_names}\n",
        "    return subset_dict"
      ]
    },
    {
      "cell_type": "code",
      "execution_count": null,
      "metadata": {
        "id": "kcLuvCe1nv9U"
      },
      "outputs": [],
      "source": [
        "train_data = dict(final_train_dict)\n",
        "valid_data = subset(final_val_dict, val_keys)\n",
        "test_data = subset(final_val_dict, test_keys)"
      ]
    },
    {
      "cell_type": "code",
      "execution_count": null,
      "metadata": {
        "colab": {
          "base_uri": "https://localhost:8080/"
        },
        "id": "7aYSuAKAnHWR",
        "outputId": "9dc934d5-8054-4ae9-b08a-7ec5ef7195b7"
      },
      "outputs": [
        {
          "output_type": "stream",
          "name": "stdout",
          "text": [
            "Number of training samples:  82586\n",
            "Number of validation samples:  5000\n",
            "Number of testing samples:  5000\n"
          ]
        }
      ],
      "source": [
        "print(\"Number of training samples: \", len(train_data))\n",
        "print(\"Number of validation samples: \", len(valid_data))\n",
        "print(\"Number of testing samples: \", len(test_data))"
      ]
    },
    {
      "cell_type": "code",
      "source": [
        "with open('train_data.json', 'w') as f:\n",
        "    json.dump(train_data, f)"
      ],
      "metadata": {
        "id": "p6SZwDzJ-EGm"
      },
      "execution_count": null,
      "outputs": []
    },
    {
      "cell_type": "code",
      "source": [
        "with open('valid_data.json', 'w') as f:\n",
        "    json.dump(valid_data, f)"
      ],
      "metadata": {
        "id": "KOvULZRZ-D9R"
      },
      "execution_count": null,
      "outputs": []
    },
    {
      "cell_type": "code",
      "source": [
        "with open('test_data.json', 'w') as f:\n",
        "    json.dump(test_data, f)"
      ],
      "metadata": {
        "id": "ZZwy67AD-D1g"
      },
      "execution_count": null,
      "outputs": []
    },
    {
      "cell_type": "code",
      "source": [
        "# open train_data json \n",
        "with open('train_data.json', 'r') as f:\n",
        "    train_data = json.load(f)"
      ],
      "metadata": {
        "id": "U7I_vYiQ-7wa"
      },
      "execution_count": null,
      "outputs": []
    },
    {
      "cell_type": "code",
      "source": [
        "# open valid_data json \n",
        "with open('valid_data.json', 'r') as f:\n",
        "    valid_data = json.load(f)"
      ],
      "metadata": {
        "id": "W4z9AIMm-7oW"
      },
      "execution_count": null,
      "outputs": []
    },
    {
      "cell_type": "code",
      "source": [
        "# open test_data json \n",
        "with open('test_data.json', 'r') as f:\n",
        "    test_data = json.load(f)"
      ],
      "metadata": {
        "id": "9v1vrhjB-7fa"
      },
      "execution_count": null,
      "outputs": []
    },
    {
      "cell_type": "code",
      "execution_count": null,
      "metadata": {
        "id": "-Xt9A7a54stu"
      },
      "outputs": [],
      "source": [
        "sorted(train_data.items())[:2]"
      ]
    },
    {
      "cell_type": "code",
      "execution_count": null,
      "metadata": {
        "id": "4vTpp2lQ49eM"
      },
      "outputs": [],
      "source": [
        "sorted(valid_data.items())[:2]"
      ]
    },
    {
      "cell_type": "code",
      "execution_count": null,
      "metadata": {
        "id": "2OtWkx8gItha"
      },
      "outputs": [],
      "source": [
        ""
      ]
    },
    {
      "cell_type": "markdown",
      "metadata": {
        "id": "DhDf9lIX2rzE"
      },
      "source": [
        "## Pre-process captions"
      ]
    },
    {
      "cell_type": "code",
      "execution_count": null,
      "metadata": {
        "id": "dYdalVcrItY9"
      },
      "outputs": [],
      "source": [
        "train_paths = list(train_data.keys())\n",
        "val_paths = list(valid_data.keys())"
      ]
    },
    {
      "cell_type": "code",
      "execution_count": null,
      "metadata": {
        "id": "b8U5UTt3ItWY"
      },
      "outputs": [],
      "source": [
        "train_c = []\n",
        "train_i = []\n",
        "\n",
        "for i in train_paths:\n",
        "  train_caption_list = train_data[i]\n",
        "  train_c.extend(train_caption_list)\n",
        "  train_i.extend([i] * len(train_caption_list))\n",
        "\n",
        "val_c = []\n",
        "val_i = []\n",
        "\n",
        "for i in val_paths:\n",
        "  val_caption_list = valid_data[i]\n",
        "  val_c.extend(val_caption_list)\n",
        "  val_i.extend([i] * len(val_caption_list))"
      ]
    },
    {
      "cell_type": "code",
      "execution_count": null,
      "metadata": {
        "id": "MWTWDwtal5dk"
      },
      "outputs": [],
      "source": [
        "all_c = train_c + val_c\n",
        "all_i = train_i + val_i"
      ]
    },
    {
      "cell_type": "code",
      "execution_count": null,
      "metadata": {
        "colab": {
          "base_uri": "https://localhost:8080/"
        },
        "id": "M1PXD12lrmLQ",
        "outputId": "95a8cf29-5468-4545-d1c2-3b90163795f6"
      },
      "outputs": [
        {
          "output_type": "execute_result",
          "data": {
            "text/plain": [
              "52"
            ]
          },
          "metadata": {},
          "execution_count": 99
        }
      ],
      "source": [
        "# with Tokenizer\n",
        "tokenizer = tf.keras.preprocessing.text.Tokenizer(num_words=10000, \n",
        "                                                  oov_token=\"<unk>\", \n",
        "                                                  lower=True,\n",
        "                                                  split=' ',\n",
        "                                                  filters='!\\\"#$%&\\(\\)\\*\\+.,-/:;=?@\\[\\\\\\]^_`{|}~')\n",
        "tokenizer.fit_on_texts(all_c)\n",
        "seqs = tokenizer.texts_to_sequences(all_c)\n",
        "tokenizer.word_index['<pad>'] = 0\n",
        "tokenizer.index_word[0] = '<pad>'\n",
        "cap_vector = tf.keras.preprocessing.sequence.pad_sequences(seqs, padding='post')\n",
        "# Find the maximum length of any caption in the dataset\n",
        "def max_caption_length(captions):\n",
        "    return max(len(caption) for caption in captions)\n",
        "\n",
        "# Calculate the max_length, which is used to store the attention weights\n",
        "max_length = max_caption_length(seqs)\n",
        "max_length"
      ]
    },
    {
      "cell_type": "code",
      "execution_count": null,
      "metadata": {
        "id": "18z8s0S-ItQ1"
      },
      "outputs": [],
      "source": [
        "merge_dict = collections.defaultdict(list)\n",
        "for image, caption in zip(all_i, cap_vector):\n",
        "    merge_dict[image].append(caption)"
      ]
    },
    {
      "cell_type": "code",
      "execution_count": null,
      "metadata": {
        "colab": {
          "base_uri": "https://localhost:8080/"
        },
        "id": "gzIrQsx5ItNw",
        "outputId": "73ebc5ea-01eb-472b-fd23-13584d4dc8fa"
      },
      "outputs": [
        {
          "output_type": "stream",
          "name": "stdout",
          "text": [
            "train length: 82586\n",
            "val length: 5000\n"
          ]
        }
      ],
      "source": [
        "train_slice = []\n",
        "val_slice = []\n",
        "\n",
        "for i in all_i:\n",
        "  if i[:i.index(\"/\")] == 'train2014':\n",
        "    train_slice.append(i)\n",
        "  else:\n",
        "    val_slice.append(i)\n",
        "\n",
        "train_slice = set(train_slice)\n",
        "val_slice = set(val_slice)\n",
        "print('train length:', len(train_slice))\n",
        "print('val length:', len(val_slice))"
      ]
    },
    {
      "cell_type": "code",
      "execution_count": null,
      "metadata": {
        "colab": {
          "base_uri": "https://localhost:8080/"
        },
        "id": "byl2gK5qoRTx",
        "outputId": "59189000-641e-4008-ac27-c0c20eabbc15"
      },
      "outputs": [
        {
          "output_type": "execute_result",
          "data": {
            "text/plain": [
              "(412930, 412930, 25000, 25000)"
            ]
          },
          "metadata": {},
          "execution_count": 16
        }
      ],
      "source": [
        "train_images = []\n",
        "train_captions = []\n",
        "for imgt in train_slice:\n",
        "    capt_len = len(merge_dict[imgt])\n",
        "    train_images.extend([imgt] * capt_len)\n",
        "    train_captions.extend(merge_dict[imgt])\n",
        "\n",
        "val_images = []\n",
        "val_captions = []\n",
        "for imgv in val_slice:\n",
        "    capv_len = len(merge_dict[imgv])\n",
        "    val_images.extend([imgv] * capv_len)\n",
        "    val_captions.extend(merge_dict[imgv])\n",
        "\n",
        "len(train_images), len(train_captions), len(val_images), len(val_captions)"
      ]
    },
    {
      "cell_type": "markdown",
      "metadata": {
        "id": "3Y-S9sTdikMt"
      },
      "source": [
        "## Transformer Model"
      ]
    },
    {
      "cell_type": "code",
      "execution_count": null,
      "metadata": {
        "id": "3RaWAlsitIw3"
      },
      "outputs": [],
      "source": [
        "from tensorflow.keras.applications.resnet50 import preprocess_input"
      ]
    },
    {
      "cell_type": "code",
      "execution_count": null,
      "metadata": {
        "id": "JDY6EIDtiiC-"
      },
      "outputs": [],
      "source": [
        "# pass images through \n",
        "def load_image_captions(image_path, captions, size=(224, 224)):  \n",
        "    #print(image_path, captions)\n",
        "    image = tf.io.read_file(image_path)\n",
        "    image = tf.io.decode_jpeg(image, channels=3)\n",
        "    image = tf.image.resize(image, size)\n",
        "    image = preprocess_input(image) #from ResNet50\n",
        "    return image, captions #image_path"
      ]
    },
    {
      "cell_type": "code",
      "execution_count": null,
      "metadata": {
        "id": "M5fiXtdWih9J"
      },
      "outputs": [],
      "source": [
        "train_dataset = tf.data.Dataset.from_tensor_slices((train_images, train_captions))"
      ]
    },
    {
      "cell_type": "code",
      "execution_count": null,
      "metadata": {
        "id": "DfcgozmmwUkj"
      },
      "outputs": [],
      "source": [
        "temp = tf.zeros([4, 224, 224, 3])\n",
        "tf.keras.applications.resnet50.preprocess_input(temp)\n",
        "\n",
        "BUFFER_SIZE=1000\n",
        "BATCH_SIZE=64"
      ]
    },
    {
      "cell_type": "code",
      "execution_count": null,
      "metadata": {
        "id": "e3OGudXis1BW"
      },
      "outputs": [],
      "source": [
        "train_dataset = train_dataset.map(load_image_captions, \n",
        "                       num_parallel_calls=tf.data.experimental.AUTOTUNE) \n",
        "# Shuffle and batch\n",
        "train_dataset = train_dataset.shuffle(BUFFER_SIZE).batch(BATCH_SIZE)\n",
        "train_dataset = train_dataset.prefetch(buffer_size=tf.data.experimental.AUTOTUNE)"
      ]
    },
    {
      "cell_type": "code",
      "execution_count": null,
      "metadata": {
        "colab": {
          "base_uri": "https://localhost:8080/"
        },
        "id": "RWdSNlknih5b",
        "outputId": "494fb66b-8f3e-478b-cadb-5b3a63d0b97a"
      },
      "outputs": [
        {
          "output_type": "stream",
          "name": "stdout",
          "text": [
            "(64, 224, 224, 3)\n",
            "[[   3   16   81 ...    0    0    0]\n",
            " [   3    2   50 ...    0    0    0]\n",
            " [   3    2   53 ...    0    0    0]\n",
            " ...\n",
            " [   3    2  944 ...    0    0    0]\n",
            " [   3    2  409 ...    0    0    0]\n",
            " [   3    2 2508 ...    0    0    0]]\n"
          ]
        }
      ],
      "source": [
        "# To verify\n",
        "for img, cap in train_dataset.take(1):\n",
        "    print(img.shape)\n",
        "    print(cap.numpy())"
      ]
    },
    {
      "cell_type": "code",
      "execution_count": null,
      "metadata": {
        "id": "AR8cDrIYtdes"
      },
      "outputs": [],
      "source": [
        "val_dataset = tf.data.Dataset.from_tensor_slices((val_images, val_captions))\n",
        "val_dataset = val_dataset.map(load_image_captions, \n",
        "                       num_parallel_calls=tf.data.experimental.AUTOTUNE) \n",
        "# Shuffle and batch\n",
        "val_dataset = val_dataset.shuffle(BUFFER_SIZE).batch(BATCH_SIZE)\n",
        "val_dataset = val_dataset.prefetch(buffer_size=tf.data.experimental.AUTOTUNE)"
      ]
    },
    {
      "cell_type": "code",
      "execution_count": null,
      "metadata": {
        "colab": {
          "base_uri": "https://localhost:8080/"
        },
        "id": "9xsZTWPktdet",
        "outputId": "d8794a4a-b803-4b8b-d849-076226963593"
      },
      "outputs": [
        {
          "output_type": "stream",
          "name": "stdout",
          "text": [
            "(64, 224, 224, 3)\n",
            "[[  3   2  78 ...   0   0   0]\n",
            " [  3   7 774 ...   0   0   0]\n",
            " [  3  15 225 ...   0   0   0]\n",
            " ...\n",
            " [  3   2 124 ...   0   0   0]\n",
            " [  3  19  14 ...   0   0   0]\n",
            " [  3   2  53 ...   0   0   0]]\n"
          ]
        }
      ],
      "source": [
        "# To verify\n",
        "for img, cap in val_dataset.take(1):\n",
        "    print(img.shape)\n",
        "    print(cap.numpy())"
      ]
    },
    {
      "cell_type": "code",
      "execution_count": null,
      "metadata": {
        "id": "jz5HcdgFihw7"
      },
      "outputs": [],
      "source": [
        "def get_angles(pos, i, d_model):\n",
        "    angle_rates = 1 / np.power(10000, (2 * (i // 2)) / np.float32(d_model))\n",
        "    return pos * angle_rates\n",
        "\n",
        "\n",
        "def positional_encoding(position, d_model):\n",
        "    angle_rads = get_angles(np.arange(position)[:, np.newaxis],\n",
        "                            np.arange(d_model)[np.newaxis, :],\n",
        "                            d_model)\n",
        "\n",
        "    # apply sin to even indices in the array; 2i\n",
        "    angle_rads[:, 0::2] = np.sin(angle_rads[:, 0::2])\n",
        "\n",
        "    # apply cos to odd indices in the array; 2i+1\n",
        "    angle_rads[:, 1::2] = np.cos(angle_rads[:, 1::2])\n",
        "\n",
        "    pos_encoding = angle_rads[np.newaxis, ...]\n",
        "\n",
        "    return tf.cast(pos_encoding, dtype=tf.float32)"
      ]
    },
    {
      "cell_type": "code",
      "execution_count": null,
      "metadata": {
        "id": "cUgWQTkWtv0J"
      },
      "outputs": [],
      "source": [
        "def create_padding_mask(seq):\n",
        "    seq = tf.cast(tf.math.equal(seq, 0), tf.float32)\n",
        "\n",
        "    # add extra dimensions to add the padding\n",
        "    # to the attention logits.\n",
        "    return seq[:, tf.newaxis, tf.newaxis, :]  # (batch_size, 1, 1, seq_len)\n",
        "\n",
        "# while decoding, we dont have recurrence and dont want decoder\n",
        "# to see tokens from the future\n",
        "\n",
        "def create_look_ahead_mask(size):\n",
        "    mask = 1 - tf.linalg.band_part(tf.ones((size, size)), -1, 0)\n",
        "    return mask  # (seq_len, seq_len)"
      ]
    },
    {
      "cell_type": "code",
      "execution_count": null,
      "metadata": {
        "id": "LiIcUpmFtyzS"
      },
      "outputs": [],
      "source": [
        "def scaled_dot_product_attention(q, k, v, mask):\n",
        "    \"\"\"Calculate the attention weights.\n",
        "    q, k, v must have matching leading dimensions.\n",
        "    k, v must have matching penultimate dimension, i.e.: seq_len_k = seq_len_v.\n",
        "    The mask has different shapes depending on its type(padding or look ahead)\n",
        "    but it must be broadcastable for addition.\n",
        "    Args:\n",
        "      q: query shape == (..., seq_len_q, depth)\n",
        "      k: key shape == (..., seq_len_k, depth)\n",
        "      v: value shape == (..., seq_len_v, depth_v)\n",
        "      mask: Float tensor with shape broadcastable\n",
        "            to (..., seq_len_q, seq_len_k). Defaults to None.\n",
        "    Returns:\n",
        "      output, attention_weights\n",
        "    \"\"\"\n",
        "\n",
        "    # (..., seq_len_q, seq_len_k)\n",
        "    matmul_qk = tf.matmul(q, k, transpose_b=True)\n",
        "\n",
        "    # scale matmul_qk\n",
        "    dk = tf.cast(tf.shape(k)[-1], tf.float32)\n",
        "    scaled_attention_logits = matmul_qk / tf.math.sqrt(dk)\n",
        "\n",
        "    # add the mask to the scaled tensor.\n",
        "    if mask is not None:\n",
        "        scaled_attention_logits += (mask * -1e9)\n",
        "\n",
        "    # softmax is normalized on the last axis (seq_len_k) so that the scores\n",
        "    # add up to 1.\n",
        "    attention_weights = tf.nn.softmax(\n",
        "        scaled_attention_logits,\n",
        "        axis=-1)  # (..., seq_len_q, seq_len_k)\n",
        "\n",
        "    output = tf.matmul(attention_weights, v)  # (..., seq_len_q, depth_v)\n",
        "\n",
        "    return output, attention_weights"
      ]
    },
    {
      "cell_type": "code",
      "execution_count": null,
      "metadata": {
        "id": "ML5mxEr-t30w"
      },
      "outputs": [],
      "source": [
        "class MultiHeadAttention(tf.keras.layers.Layer):\n",
        "    def __init__(self, d_model, num_heads):\n",
        "        super(MultiHeadAttention, self).__init__()\n",
        "        self.num_heads = num_heads\n",
        "        self.d_model = d_model\n",
        "\n",
        "        assert d_model % self.num_heads == 0\n",
        "\n",
        "        self.depth = d_model // self.num_heads\n",
        "\n",
        "        self.wq = tf.keras.layers.Dense(d_model)\n",
        "        self.wk = tf.keras.layers.Dense(d_model)\n",
        "        self.wv = tf.keras.layers.Dense(d_model)\n",
        "\n",
        "        self.dense = tf.keras.layers.Dense(d_model)\n",
        "\n",
        "    def split_heads(self, x, batch_size):\n",
        "        \"\"\"Split the last dimension into (num_heads, depth).\n",
        "        Transpose the result such that the shape is (batch_size, num_heads, seq_len, depth)\n",
        "        \"\"\"\n",
        "        x = tf.reshape(x, (batch_size, -1, self.num_heads, self.depth))\n",
        "        return tf.transpose(x, perm=[0, 2, 1, 3])\n",
        "\n",
        "    def call(self, v, k, q, mask):\n",
        "        batch_size = tf.shape(q)[0]\n",
        "\n",
        "        q = self.wq(q)  # (batch_size, seq_len, d_model)\n",
        "        k = self.wk(k)  # (batch_size, seq_len, d_model)\n",
        "        v = self.wv(v)  # (batch_size, seq_len, d_model)\n",
        "\n",
        "        # (batch_size, num_heads, seq_len_q, depth)\n",
        "        q = self.split_heads(q, batch_size)\n",
        "        # (batch_size, num_heads, seq_len_k, depth)\n",
        "        k = self.split_heads(k, batch_size)\n",
        "        # (batch_size, num_heads, seq_len_v, depth)\n",
        "        v = self.split_heads(v, batch_size)\n",
        "\n",
        "        # scaled_attention.shape == (batch_size, num_heads, seq_len_q, depth)\n",
        "        # attention_weights.shape == (batch_size, num_heads, seq_len_q, seq_len_k)\n",
        "        scaled_attention, attention_weights = scaled_dot_product_attention(\n",
        "            q, k, v, mask)\n",
        "\n",
        "        # (batch_size, seq_len_q, num_heads, depth)\n",
        "        scaled_attention = tf.transpose(scaled_attention, perm=[0, 2, 1, 3])\n",
        "\n",
        "        concat_attention = tf.reshape(scaled_attention,\n",
        "                                      (batch_size, -1, self.d_model))  # (batch_size, seq_len_q, d_model)\n",
        "\n",
        "        # (batch_size, seq_len_q, d_model)\n",
        "        output = self.dense(concat_attention)\n",
        "\n",
        "        return output, attention_weights"
      ]
    },
    {
      "cell_type": "code",
      "execution_count": null,
      "metadata": {
        "id": "WGYpdmwPt7ns"
      },
      "outputs": [],
      "source": [
        "def point_wise_feed_forward_network(d_model, dff):\n",
        "    return tf.keras.Sequential([\n",
        "        # (batch_size, seq_len, dff)\n",
        "        tf.keras.layers.Dense(dff, activation='relu'),\n",
        "        tf.keras.layers.Dense(d_model)  # (batch_size, seq_len, d_model)\n",
        "    ])"
      ]
    },
    {
      "cell_type": "code",
      "execution_count": null,
      "metadata": {
        "id": "UAafSsUvt-Xg"
      },
      "outputs": [],
      "source": [
        "class EncoderLayer(tf.keras.layers.Layer):\n",
        "    def __init__(self, d_model, num_heads, dff, rate=0.3):\n",
        "        super(EncoderLayer, self).__init__()\n",
        "\n",
        "        self.mha = MultiHeadAttention(d_model, num_heads)\n",
        "        self.ffn = point_wise_feed_forward_network(d_model, dff)\n",
        "\n",
        "        self.layernorm1 = tf.keras.layers.LayerNormalization(epsilon=1e-6)\n",
        "        self.layernorm2 = tf.keras.layers.LayerNormalization(epsilon=1e-6)\n",
        "\n",
        "        self.dropout1 = tf.keras.layers.Dropout(rate)\n",
        "        self.dropout2 = tf.keras.layers.Dropout(rate)\n",
        "\n",
        "    def call(self, x, training, mask):\n",
        "        # (batch_size, input_seq_len, d_model)\n",
        "        attn_output, _ = self.mha(x, x, x, mask)\n",
        "        attn_output = self.dropout1(attn_output, training=training)\n",
        "        # (batch_size, input_seq_len, d_model)\n",
        "        out1 = self.layernorm1(x + attn_output)\n",
        "\n",
        "        ffn_output = self.ffn(out1)  # (batch_size, input_seq_len, d_model)\n",
        "        ffn_output = self.dropout2(ffn_output, training=training)\n",
        "        # (batch_size, input_seq_len, d_model)\n",
        "        out2 = self.layernorm2(out1 + ffn_output)  # Residual connection\n",
        "\n",
        "        return out2\n"
      ]
    },
    {
      "cell_type": "code",
      "execution_count": null,
      "metadata": {
        "id": "WwTSognmuDyH"
      },
      "outputs": [],
      "source": [
        "class Encoder(tf.keras.layers.Layer):\n",
        "    def __init__(self, num_layers, d_model, num_heads, dff,\n",
        "                   maximum_position_encoding=49, dropout_rate=0.3):\n",
        "        # we have 7x7 images from ResNet50, and each pixel is an input token\n",
        "        # which has been embedded into 2048 dimensions by ResNet\n",
        "        super(Encoder, self).__init__()\n",
        "\n",
        "        self.d_model = d_model\n",
        "        self.num_layers = num_layers\n",
        "        # add a resNet50 as a layer\n",
        "        rs50 = tf.keras.applications.ResNet50(\n",
        "                    include_top=False,\n",
        "                    weights=\"imagenet\",  #no pooling\n",
        "                    input_shape=(224, 224, 3)\n",
        "                )\n",
        "        \n",
        "        self.features_extract = rs50\n",
        "        \n",
        "        self.fc = tf.keras.layers.Dense(d_model, activation='relu')\n",
        "        self.pos_encoding = positional_encoding(maximum_position_encoding, \n",
        "                                                self.d_model)\n",
        "        \n",
        "        \n",
        "        self.enc_layers = [EncoderLayer(d_model, num_heads, dff, dropout_rate) \n",
        "                           for _ in range(num_layers)]\n",
        "    \n",
        "        self.dropout = tf.keras.layers.Dropout(dropout_rate)\n",
        "    \n",
        "    def train_resnet(self, yes=False):\n",
        "        # make all the layers of the resnet trainable or not\n",
        "        for layer in self.features_extract.layers:\n",
        "                layer.trainable = yes # boolean\n",
        "                \n",
        "        \n",
        "    def call(self, x, training, mask):\n",
        "        # we need to convert 224x224x3 images in 49x2048\n",
        "        x = self.features_extract(x)\n",
        "        x = tf.reshape(x,\n",
        "                    (x.shape[0], -1, x.shape[3])) # 49x2048 now\n",
        "        \n",
        "        #all inp image sequences are always 49, so mask not needed\n",
        "        seq_len = tf.shape(x)[1] \n",
        "        \n",
        "        #x = self.embedding(x)  # (batch_size, input_seq_len, d_model)\n",
        "        \n",
        "        # adding embedding and position encoding.\n",
        "        # input size should be batch_size, 49, 2048)\n",
        "        x = self.fc(x)  # output dims should be (batch_size, 49, d_model)\n",
        "        x *= tf.math.sqrt(tf.cast(self.d_model, tf.float32))\n",
        "        x += self.pos_encoding[:, :seq_len, :]\n",
        "\n",
        "        x = self.dropout(x, training=training)\n",
        "        \n",
        "        for i in range(self.num_layers):\n",
        "            x = self.enc_layers[i](x, training, mask)  # mask shouldnt be needed\n",
        "        \n",
        "        return x  # (batch_size, 49, d_model)\n"
      ]
    },
    {
      "cell_type": "code",
      "execution_count": null,
      "metadata": {
        "id": "KHFbsaHxuMWM"
      },
      "outputs": [],
      "source": [
        "class DecoderLayer(tf.keras.layers.Layer):\n",
        "    def __init__(self, d_model, num_heads, dff, rate=0.1):\n",
        "        super(DecoderLayer, self).__init__()\n",
        "\n",
        "        self.mha1 = MultiHeadAttention(d_model, num_heads)\n",
        "        self.mha2 = MultiHeadAttention(d_model, num_heads)\n",
        "\n",
        "        self.ffn = point_wise_feed_forward_network(d_model, dff)\n",
        "\n",
        "        self.layernorm1 = tf.keras.layers.LayerNormalization(epsilon=1e-6)\n",
        "        self.layernorm2 = tf.keras.layers.LayerNormalization(epsilon=1e-6)\n",
        "        self.layernorm3 = tf.keras.layers.LayerNormalization(epsilon=1e-6)\n",
        "\n",
        "        self.dropout1 = tf.keras.layers.Dropout(rate)\n",
        "        self.dropout2 = tf.keras.layers.Dropout(rate)\n",
        "        self.dropout3 = tf.keras.layers.Dropout(rate)\n",
        "\n",
        "    def call(self, x, enc_output, training,\n",
        "             look_ahead_mask, padding_mask):\n",
        "        # enc_output.shape == (batch_size, input_seq_len, d_model)\n",
        "\n",
        "        attn1, attn_weights_block1 = self.mha1(\n",
        "            x, x, x, look_ahead_mask)  # (batch_size, target_seq_len, d_model)\n",
        "        attn1 = self.dropout1(attn1, training=training)\n",
        "        out1 = self.layernorm1(attn1 + x) # residual\n",
        "\n",
        "        attn2, attn_weights_block2 = self.mha2(\n",
        "            enc_output, enc_output, out1, padding_mask)  # (batch_size, target_seq_len, d_model)\n",
        "        attn2 = self.dropout2(attn2, training=training)\n",
        "        # (batch_size, target_seq_len, d_model)\n",
        "        out2 = self.layernorm2(attn2 + out1)\n",
        "\n",
        "        ffn_output = self.ffn(out2)  # (batch_size, target_seq_len, d_model)\n",
        "        ffn_output = self.dropout3(ffn_output, training=training)\n",
        "        # (batch_size, target_seq_len, d_model)\n",
        "        out3 = self.layernorm3(ffn_output + out2)\n",
        "\n",
        "        return out3, attn_weights_block1, attn_weights_block2"
      ]
    },
    {
      "cell_type": "code",
      "execution_count": null,
      "metadata": {
        "id": "W90rzb4IuS_k"
      },
      "outputs": [],
      "source": [
        "class Decoder(tf.keras.layers.Layer):\n",
        "    def __init__(self, num_layers, d_model, num_heads, dff, vocab_size,\n",
        "                 maximum_position_encoding, rate=0.1):\n",
        "        super(Decoder, self).__init__()\n",
        "\n",
        "        self.d_model = d_model\n",
        "        self.num_layers = num_layers\n",
        "\n",
        "        self.embedding = tf.keras.layers.Embedding(vocab_size, d_model)\n",
        "        self.pos_encoding = positional_encoding(\n",
        "                                maximum_position_encoding, d_model)\n",
        "\n",
        "        self.dec_layers = [DecoderLayer(d_model, num_heads, dff, rate)\n",
        "                           for _ in range(num_layers)]\n",
        "        self.dropout = tf.keras.layers.Dropout(rate)\n",
        "\n",
        "    def call(self, x, enc_output, training,\n",
        "             look_ahead_mask, padding_mask):\n",
        "\n",
        "        seq_len = tf.shape(x)[1]\n",
        "        attention_weights = {}\n",
        "\n",
        "        x = self.embedding(x)  # (batch_size, target_seq_len, d_model)\n",
        "        x *= tf.math.sqrt(tf.cast(self.d_model, tf.float32))\n",
        "        x += self.pos_encoding[:, :seq_len, :]\n",
        "\n",
        "        x = self.dropout(x, training=training)\n",
        "\n",
        "        for i in range(self.num_layers):\n",
        "            x, block1, block2 = self.dec_layers[i](x, enc_output, training,\n",
        "                                                   look_ahead_mask, \n",
        "                                                   padding_mask)\n",
        "\n",
        "        attention_weights['decoder_layer{}_block1'.format(i + 1)] = block1\n",
        "        attention_weights['decoder_layer{}_block2'.format(i + 1)] = block2\n",
        "\n",
        "        # x.shape == (batch_size, target_seq_len, d_model)\n",
        "        return x, attention_weights\n"
      ]
    },
    {
      "cell_type": "code",
      "execution_count": null,
      "metadata": {
        "id": "i1WrAT9KuVxS"
      },
      "outputs": [],
      "source": [
        "class Transformer(tf.keras.Model):\n",
        "    def __init__(self, num_layers, d_model, num_heads, dff, \n",
        "             vocab_size, pe_input, pe_target, rate=0.1):\n",
        "        super(Transformer, self).__init__()\n",
        "\n",
        "        self.encoder = Encoder(num_layers, d_model, num_heads, dff, \n",
        "                                     pe_input, rate)\n",
        "\n",
        "        self.decoder = Decoder(num_layers, d_model, num_heads, dff, \n",
        "                             vocab_size, pe_target, rate)\n",
        "\n",
        "        self.final_layer = tf.keras.layers.Dense(vocab_size)\n",
        "\n",
        "    def call(self, inp, tar, training, enc_padding_mask, \n",
        "         look_ahead_mask, dec_padding_mask):\n",
        "\n",
        "        enc_output = self.encoder(inp, training, enc_padding_mask)  # (batch_size, inp_seq_len, d_model)\n",
        "\n",
        "        # dec_output.shape == (batch_size, tar_seq_len, d_model)\n",
        "        dec_output, attention_weights = self.decoder(\n",
        "          tar, enc_output, training, look_ahead_mask, dec_padding_mask)\n",
        "\n",
        "        final_output = self.final_layer(dec_output)  # (batch_size, tar_seq_len, target_vocab_size)\n",
        "\n",
        "        return final_output, attention_weights"
      ]
    },
    {
      "cell_type": "code",
      "execution_count": null,
      "metadata": {
        "id": "Q0fHwuvVuY4m"
      },
      "outputs": [],
      "source": [
        "num_layers = 4\n",
        "d_model = 512\n",
        "dff = 2048\n",
        "num_heads = 8\n",
        "vocabulary_size = tokenizer.num_words + 1\n",
        "dropout_rate = 0.3"
      ]
    },
    {
      "cell_type": "code",
      "execution_count": null,
      "metadata": {
        "colab": {
          "base_uri": "https://localhost:8080/"
        },
        "id": "P9K0Xpdfujtv",
        "outputId": "bbf8f060-dc08-4c52-c113-b0123cfa0d25"
      },
      "outputs": [
        {
          "output_type": "stream",
          "name": "stdout",
          "text": [
            "Starting training with ResNet is not trainable\n"
          ]
        }
      ],
      "source": [
        "transformer = Transformer(num_layers, d_model, num_heads, dff,\n",
        "                          vocab_size=vocabulary_size, \n",
        "                          pe_input=49, # 7x7 pixels\n",
        "                          pe_target=vocabulary_size,\n",
        "                          rate=dropout_rate\n",
        "                          )\n"
      ]
    },
    {
      "cell_type": "code",
      "execution_count": null,
      "metadata": {
        "id": "WEzB-QKmvymX"
      },
      "outputs": [],
      "source": [
        "def create_masks(inp, tar):\n",
        "    # Encoder padding mask - This should just be 1's\n",
        "    # input shape should be (batch_size, 49, 2048)\n",
        "    # inp_seq = tf.ones([inp.shape[0], inp.shape[1]]) # all pixels to be used\n",
        "    inp_seq = tf.ones([inp.shape[0], 49])  # as resnet is now part of architecture\n",
        "    # cant use input shapes any more as they should be 224x224x3\n",
        "    enc_padding_mask = create_padding_mask(inp_seq)\n",
        "    \n",
        "    # Used in the 2nd attention block in the decoder.\n",
        "    # This padding mask is used to mask the encoder outputs.\n",
        "    dec_padding_mask = create_padding_mask(inp_seq)\n",
        "    \n",
        "    # Used in the 1st attention block in the decoder.\n",
        "    # It is used to pad and mask future tokens in the input received by \n",
        "    # the decoder.\n",
        "    look_ahead_mask = create_look_ahead_mask(tf.shape(tar)[1])\n",
        "    dec_target_padding_mask = create_padding_mask(tar)\n",
        "    combined_mask = tf.maximum(dec_target_padding_mask, look_ahead_mask)\n",
        "    \n",
        "    return enc_padding_mask, combined_mask, dec_padding_mask"
      ]
    },
    {
      "cell_type": "code",
      "execution_count": null,
      "metadata": {
        "id": "pUCZNYYVulP2"
      },
      "outputs": [],
      "source": [
        "class CustomSchedule(tf.keras.optimizers.schedules.LearningRateSchedule):\n",
        "    def __init__(self, d_model, warmup_steps=4000):\n",
        "        super(CustomSchedule, self).__init__()\n",
        "\n",
        "        self.d_model = d_model\n",
        "        self.d_model = tf.cast(self.d_model, tf.float32)\n",
        "\n",
        "        self.warmup_steps = warmup_steps\n",
        "\n",
        "    def __call__(self, step):\n",
        "        arg1 = tf.math.rsqrt(step)\n",
        "        arg2 = step * (self.warmup_steps ** -1.5)\n",
        "\n",
        "        return tf.math.rsqrt(self.d_model) * tf.math.minimum(arg1, arg2)\n",
        "\n",
        "learning_rate = CustomSchedule(d_model)\n",
        "\n",
        "optimizer = tf.keras.optimizers.Adam(learning_rate, beta_1=0.9, beta_2=0.98, \n",
        "                                     epsilon=1e-9)\n",
        "\n",
        "loss_object = tf.keras.losses.SparseCategoricalCrossentropy(\n",
        "    from_logits=True, reduction='none')\n",
        "\n",
        "def loss_function(real, pred):\n",
        "    mask = tf.math.logical_not(tf.math.equal(real, 0))\n",
        "    loss_ = loss_object(real, pred)\n",
        "\n",
        "    mask = tf.cast(mask, dtype=loss_.dtype)\n",
        "    loss_ *= mask\n",
        "    \n",
        "    return tf.reduce_sum(loss_)/tf.reduce_sum(mask)"
      ]
    },
    {
      "cell_type": "code",
      "execution_count": null,
      "metadata": {
        "id": "QL8gpsMDvsHS"
      },
      "outputs": [],
      "source": [
        "train_loss = tf.keras.metrics.Mean(name='train_loss')\n",
        "train_accuracy = tf.keras.metrics.SparseCategoricalAccuracy(\n",
        "    name='train_accuracy')\n",
        "\n",
        "val_loss = tf.keras.metrics.Mean(name='val_loss')\n",
        "val_accuracy = tf.keras.metrics.SparseCategoricalAccuracy(\n",
        "    name='val_accuracy')"
      ]
    },
    {
      "cell_type": "code",
      "execution_count": null,
      "metadata": {
        "id": "zWP31wuavsHS"
      },
      "outputs": [],
      "source": [
        "train_loss_plot = []\n",
        "train_acc_plot = []\n",
        "\n",
        "val_loss_plot = []\n",
        "val_acc_plot = []"
      ]
    },
    {
      "cell_type": "code",
      "source": [
        "try:\n",
        "    os.makedirs(os.path.join('checkpoints', 'trans'))\n",
        "except FileExistsError:\n",
        "    pass # if directory already exists\n",
        "checkpoint_path = \"./checkpoints/trans\"\n",
        "\n",
        "ckpt = tf.train.Checkpoint(transformer=transformer,\n",
        "                           optimizer=optimizer)\n",
        "\n",
        "ckpt_manager = tf.train.CheckpointManager(ckpt, checkpoint_path, max_to_keep=5)\n",
        "\n",
        "# if a checkpoint exists, restore the latest checkpoint.\n",
        "if ckpt_manager.latest_checkpoint:\n",
        "  ckpt.restore(ckpt_manager.latest_checkpoint)\n",
        "  print('Latest checkpoint restored!!')"
      ],
      "metadata": {
        "id": "56cSswgcAjSs"
      },
      "execution_count": null,
      "outputs": []
    },
    {
      "cell_type": "markdown",
      "source": [
        "## Training"
      ],
      "metadata": {
        "id": "cDxv1cDnwFyB"
      }
    },
    {
      "cell_type": "code",
      "execution_count": null,
      "metadata": {
        "id": "Jb_-ISQmvsHS"
      },
      "outputs": [],
      "source": [
        "@tf.function\n",
        "def train_step(inp, tar):\n",
        "    tar_inp = tar[:, :-1]\n",
        "    tar_real = tar[:, 1:]\n",
        "\n",
        "    enc_padding_mask, combined_mask, dec_padding_mask = create_masks(inp, tar_inp)\n",
        "\n",
        "    with tf.GradientTape() as tape:\n",
        "        predictions, _ = transformer(inp, tar_inp,\n",
        "                                     True,\n",
        "                                     enc_padding_mask,\n",
        "                                     combined_mask,\n",
        "                                     dec_padding_mask)\n",
        "        loss = loss_function(tar_real, predictions)\n",
        "\n",
        "    gradients = tape.gradient(loss, transformer.trainable_variables)\n",
        "    optimizer.apply_gradients(zip(gradients, transformer.trainable_variables))\n",
        "\n",
        "    train_loss(loss)\n",
        "    train_accuracy(tar_real, predictions)"
      ]
    },
    {
      "cell_type": "code",
      "execution_count": null,
      "metadata": {
        "id": "E8exZMJJvsHT"
      },
      "outputs": [],
      "source": [
        "@tf.function\n",
        "def test_step(val_inp, val_tar):\n",
        "    val_tar_inp = val_tar[:, :-1]\n",
        "    val_tar_real = val_tar[:, 1:]\n",
        "\n",
        "    enc_padding_mask, combined_mask, dec_padding_mask = create_masks(val_inp, val_tar_inp)\n",
        "    val_predictions, _ = transformer(val_inp, val_tar_inp, False, enc_padding_mask,\n",
        "                                     combined_mask, dec_padding_mask)\n",
        "    v_loss = loss_function(val_tar_real, val_predictions)\n",
        "\n",
        "    val_loss(v_loss)\n",
        "    val_accuracy(val_tar_real, val_predictions)"
      ]
    },
    {
      "cell_type": "code",
      "execution_count": null,
      "metadata": {
        "id": "7xgA7i5YwElY"
      },
      "outputs": [],
      "source": [
        ""
      ]
    },
    {
      "cell_type": "code",
      "execution_count": null,
      "metadata": {
        "colab": {
          "base_uri": "https://localhost:8080/"
        },
        "id": "_1-O1QzpvsHT",
        "outputId": "3ea6822c-1dcb-42de-9895-f928070165b1"
      },
      "outputs": [
        {
          "output_type": "stream",
          "name": "stdout",
          "text": [
            "\n",
            "Start of epoch 0\n",
            "Training loss (for one batch) at batch 0: 9.2555\n",
            "Training acc (for one batch) at batch 0: 0.0000\n",
            "Training loss (for one batch) at batch 1000: 5.1775\n",
            "Training acc (for one batch) at batch 1000: 0.0576\n",
            "Training loss (for one batch) at batch 2000: 4.3406\n",
            "Training acc (for one batch) at batch 2000: 0.0704\n",
            "Training loss (for one batch) at batch 3000: 3.9838\n",
            "Training acc (for one batch) at batch 3000: 0.0765\n",
            "Training loss (for one batch) at batch 4000: 3.7897\n",
            "Training acc (for one batch) at batch 4000: 0.0799\n",
            "Training loss (for one batch) at batch 5000: 3.6675\n",
            "Training acc (for one batch) at batch 5000: 0.0821\n",
            "Training loss (for one batch) at batch 6000: 3.5708\n",
            "Training acc (for one batch) at batch 6000: 0.0839\n",
            "Training loss over epoch: 3.5346\n",
            "Training acc over epoch: 0.0846\n",
            "Validation loss: 3.0776\n",
            "Validation acc: 0.0944\n",
            "Time taken: 1857.08s\n",
            "\n",
            "Start of epoch 1\n",
            "Training loss (for one batch) at batch 0: 3.4536\n",
            "Training acc (for one batch) at batch 0: 0.0839\n",
            "Training loss (for one batch) at batch 1000: 3.0178\n",
            "Training acc (for one batch) at batch 1000: 0.0948\n",
            "Training loss (for one batch) at batch 2000: 2.9994\n",
            "Training acc (for one batch) at batch 2000: 0.0954\n",
            "Training loss (for one batch) at batch 3000: 2.9820\n",
            "Training acc (for one batch) at batch 3000: 0.0957\n",
            "Training loss (for one batch) at batch 4000: 2.9660\n",
            "Training acc (for one batch) at batch 4000: 0.0962\n",
            "Training loss (for one batch) at batch 5000: 2.9537\n",
            "Training acc (for one batch) at batch 5000: 0.0965\n",
            "Training loss (for one batch) at batch 6000: 2.9403\n",
            "Training acc (for one batch) at batch 6000: 0.0969\n",
            "Training loss over epoch: 2.9349\n",
            "Training acc over epoch: 0.0970\n",
            "Validation loss: 2.8540\n",
            "Validation acc: 0.0994\n",
            "Time taken: 1830.08s\n",
            "\n",
            "Start of epoch 2\n",
            "Training loss (for one batch) at batch 0: 3.0568\n",
            "Training acc (for one batch) at batch 0: 0.0858\n",
            "Training loss (for one batch) at batch 1000: 2.8468\n",
            "Training acc (for one batch) at batch 1000: 0.0994\n",
            "Training loss (for one batch) at batch 2000: 2.8408\n",
            "Training acc (for one batch) at batch 2000: 0.0995\n",
            "Training loss (for one batch) at batch 3000: 2.8324\n",
            "Training acc (for one batch) at batch 3000: 0.0997\n",
            "Training loss (for one batch) at batch 4000: 2.8241\n",
            "Training acc (for one batch) at batch 4000: 0.1000\n",
            "Training loss (for one batch) at batch 5000: 2.8193\n",
            "Training acc (for one batch) at batch 5000: 0.1001\n",
            "Training loss (for one batch) at batch 6000: 2.8121\n",
            "Training acc (for one batch) at batch 6000: 0.1003\n",
            "Training loss over epoch: 2.8088\n",
            "Training acc over epoch: 0.1004\n",
            "Validation loss: 2.7971\n",
            "Validation acc: 0.1016\n",
            "Time taken: 1829.45s\n",
            "\n",
            "Start of epoch 3\n",
            "Training loss (for one batch) at batch 0: 2.6272\n",
            "Training acc (for one batch) at batch 0: 0.1029\n",
            "Training loss (for one batch) at batch 1000: 2.7574\n",
            "Training acc (for one batch) at batch 1000: 0.1019\n",
            "Training loss (for one batch) at batch 2000: 2.7536\n",
            "Training acc (for one batch) at batch 2000: 0.1021\n",
            "Training loss (for one batch) at batch 3000: 2.7490\n",
            "Training acc (for one batch) at batch 3000: 0.1022\n",
            "Training loss (for one batch) at batch 4000: 2.7452\n",
            "Training acc (for one batch) at batch 4000: 0.1023\n",
            "Training loss (for one batch) at batch 5000: 2.7433\n",
            "Training acc (for one batch) at batch 5000: 0.1024\n",
            "Training loss (for one batch) at batch 6000: 2.7388\n",
            "Training acc (for one batch) at batch 6000: 0.1024\n",
            "Training loss over epoch: 2.7367\n",
            "Training acc over epoch: 0.1025\n",
            "Validation loss: 2.7338\n",
            "Validation acc: 0.1032\n",
            "Time taken: 1829.92s\n",
            "\n",
            "Start of epoch 4\n",
            "Training loss (for one batch) at batch 0: 2.7486\n",
            "Training acc (for one batch) at batch 0: 0.1002\n",
            "Training loss (for one batch) at batch 1000: 2.7038\n",
            "Training acc (for one batch) at batch 1000: 0.1035\n",
            "Training loss (for one batch) at batch 2000: 2.7019\n",
            "Training acc (for one batch) at batch 2000: 0.1036\n",
            "Training loss (for one batch) at batch 3000: 2.7008\n",
            "Training acc (for one batch) at batch 3000: 0.1036\n",
            "Training loss (for one batch) at batch 4000: 2.6977\n",
            "Training acc (for one batch) at batch 4000: 0.1037\n",
            "Training loss (for one batch) at batch 5000: 2.6979\n",
            "Training acc (for one batch) at batch 5000: 0.1038\n",
            "Training loss (for one batch) at batch 6000: 2.6949\n",
            "Training acc (for one batch) at batch 6000: 0.1038\n",
            "Training loss over epoch: 2.6930\n",
            "Training acc over epoch: 0.1038\n",
            "Validation loss: 2.7126\n",
            "Validation acc: 0.1045\n",
            "Saving checkpoint for epoch 5 at ./checkpoints/trans/ckpt-1\n",
            "Time taken: 1833.66s\n",
            "\n",
            "Start of epoch 5\n",
            "Training loss (for one batch) at batch 0: 2.8011\n",
            "Training acc (for one batch) at batch 0: 0.1097\n",
            "Training loss (for one batch) at batch 1000: 2.6644\n",
            "Training acc (for one batch) at batch 1000: 0.1047\n",
            "Training loss (for one batch) at batch 2000: 2.6647\n",
            "Training acc (for one batch) at batch 2000: 0.1048\n",
            "Training loss (for one batch) at batch 3000: 2.6630\n",
            "Training acc (for one batch) at batch 3000: 0.1048\n",
            "Training loss (for one batch) at batch 4000: 2.6604\n",
            "Training acc (for one batch) at batch 4000: 0.1049\n",
            "Training loss (for one batch) at batch 5000: 2.6612\n",
            "Training acc (for one batch) at batch 5000: 0.1049\n",
            "Training loss (for one batch) at batch 6000: 2.6585\n",
            "Training acc (for one batch) at batch 6000: 0.1050\n",
            "Training loss over epoch: 2.6574\n",
            "Training acc over epoch: 0.1050\n",
            "Validation loss: 2.6834\n",
            "Validation acc: 0.1054\n",
            "Time taken: 1831.64s\n",
            "\n",
            "Start of epoch 6\n",
            "Training loss (for one batch) at batch 0: 2.5833\n",
            "Training acc (for one batch) at batch 0: 0.1054\n",
            "Training loss (for one batch) at batch 1000: 2.6314\n",
            "Training acc (for one batch) at batch 1000: 0.1056\n",
            "Training loss (for one batch) at batch 2000: 2.6328\n",
            "Training acc (for one batch) at batch 2000: 0.1056\n",
            "Training loss (for one batch) at batch 3000: 2.6328\n",
            "Training acc (for one batch) at batch 3000: 0.1057\n",
            "Training loss (for one batch) at batch 4000: 2.6301\n",
            "Training acc (for one batch) at batch 4000: 0.1058\n",
            "Training loss (for one batch) at batch 5000: 2.6312\n",
            "Training acc (for one batch) at batch 5000: 0.1058\n",
            "Training loss (for one batch) at batch 6000: 2.6295\n",
            "Training acc (for one batch) at batch 6000: 0.1058\n",
            "Training loss over epoch: 2.6281\n",
            "Training acc over epoch: 0.1058\n",
            "Validation loss: 2.6658\n",
            "Validation acc: 0.1062\n",
            "Time taken: 1830.87s\n",
            "\n",
            "Start of epoch 7\n",
            "Training loss (for one batch) at batch 0: 2.5537\n",
            "Training acc (for one batch) at batch 0: 0.1054\n",
            "Training loss (for one batch) at batch 1000: 2.6062\n",
            "Training acc (for one batch) at batch 1000: 0.1064\n",
            "Training loss (for one batch) at batch 2000: 2.6078\n",
            "Training acc (for one batch) at batch 2000: 0.1065\n",
            "Training loss (for one batch) at batch 3000: 2.6087\n",
            "Training acc (for one batch) at batch 3000: 0.1064\n",
            "Training loss (for one batch) at batch 4000: 2.6061\n",
            "Training acc (for one batch) at batch 4000: 0.1066\n",
            "Training loss (for one batch) at batch 5000: 2.6072\n",
            "Training acc (for one batch) at batch 5000: 0.1066\n",
            "Training loss (for one batch) at batch 6000: 2.6055\n",
            "Training acc (for one batch) at batch 6000: 0.1066\n",
            "Training loss over epoch: 2.6042\n",
            "Training acc over epoch: 0.1066\n",
            "Validation loss: 2.6544\n",
            "Validation acc: 0.1064\n",
            "Time taken: 1831.76s\n",
            "\n",
            "Start of epoch 8\n",
            "Training loss (for one batch) at batch 0: 2.6740\n",
            "Training acc (for one batch) at batch 0: 0.1078\n",
            "Training loss (for one batch) at batch 1000: 2.5843\n",
            "Training acc (for one batch) at batch 1000: 0.1072\n",
            "Training loss (for one batch) at batch 2000: 2.5855\n",
            "Training acc (for one batch) at batch 2000: 0.1072\n",
            "Training loss (for one batch) at batch 3000: 2.5875\n",
            "Training acc (for one batch) at batch 3000: 0.1071\n",
            "Training loss (for one batch) at batch 4000: 2.5856\n",
            "Training acc (for one batch) at batch 4000: 0.1072\n",
            "Training loss (for one batch) at batch 5000: 2.5866\n",
            "Training acc (for one batch) at batch 5000: 0.1072\n",
            "Training loss (for one batch) at batch 6000: 2.5851\n",
            "Training acc (for one batch) at batch 6000: 0.1072\n",
            "Training loss over epoch: 2.5842\n",
            "Training acc over epoch: 0.1073\n",
            "Validation loss: 2.6495\n",
            "Validation acc: 0.1069\n",
            "Time taken: 1830.74s\n",
            "\n",
            "Start of epoch 9\n",
            "Training loss (for one batch) at batch 0: 2.5430\n",
            "Training acc (for one batch) at batch 0: 0.1146\n",
            "Training loss (for one batch) at batch 1000: 2.5650\n",
            "Training acc (for one batch) at batch 1000: 0.1078\n",
            "Training loss (for one batch) at batch 2000: 2.5670\n",
            "Training acc (for one batch) at batch 2000: 0.1078\n",
            "Training loss (for one batch) at batch 3000: 2.5689\n",
            "Training acc (for one batch) at batch 3000: 0.1078\n",
            "Training loss (for one batch) at batch 4000: 2.5673\n",
            "Training acc (for one batch) at batch 4000: 0.1078\n",
            "Training loss (for one batch) at batch 5000: 2.5683\n",
            "Training acc (for one batch) at batch 5000: 0.1078\n",
            "Training loss (for one batch) at batch 6000: 2.5675\n",
            "Training acc (for one batch) at batch 6000: 0.1078\n",
            "Training loss over epoch: 2.5666\n",
            "Training acc over epoch: 0.1078\n",
            "Validation loss: 2.6395\n",
            "Validation acc: 0.1072\n",
            "Saving checkpoint for epoch 10 at ./checkpoints/trans/ckpt-2\n",
            "Time taken: 1832.61s\n",
            "\n",
            "Start of epoch 10\n",
            "Training loss (for one batch) at batch 0: 2.5560\n",
            "Training acc (for one batch) at batch 0: 0.1097\n",
            "Training loss (for one batch) at batch 1000: 2.5485\n",
            "Training acc (for one batch) at batch 1000: 0.1083\n",
            "Training loss (for one batch) at batch 2000: 2.5503\n",
            "Training acc (for one batch) at batch 2000: 0.1083\n",
            "Training loss (for one batch) at batch 3000: 2.5527\n",
            "Training acc (for one batch) at batch 3000: 0.1082\n",
            "Training loss (for one batch) at batch 4000: 2.5513\n",
            "Training acc (for one batch) at batch 4000: 0.1083\n",
            "Training loss (for one batch) at batch 5000: 2.5522\n",
            "Training acc (for one batch) at batch 5000: 0.1083\n",
            "Training loss (for one batch) at batch 6000: 2.5509\n",
            "Training acc (for one batch) at batch 6000: 0.1083\n",
            "Training loss over epoch: 2.5500\n",
            "Training acc over epoch: 0.1083\n",
            "Validation loss: 2.6343\n",
            "Validation acc: 0.1075\n",
            "Time taken: 1831.37s\n",
            "\n",
            "Start of epoch 11\n",
            "Training loss (for one batch) at batch 0: 2.3176\n",
            "Training acc (for one batch) at batch 0: 0.1173\n",
            "Training loss (for one batch) at batch 1000: 2.5322\n",
            "Training acc (for one batch) at batch 1000: 0.1088\n",
            "Training loss (for one batch) at batch 2000: 2.5344\n",
            "Training acc (for one batch) at batch 2000: 0.1088\n",
            "Training loss (for one batch) at batch 3000: 2.5363\n",
            "Training acc (for one batch) at batch 3000: 0.1087\n",
            "Training loss (for one batch) at batch 4000: 2.5354\n",
            "Training acc (for one batch) at batch 4000: 0.1088\n",
            "Training loss (for one batch) at batch 5000: 2.5369\n",
            "Training acc (for one batch) at batch 5000: 0.1088\n",
            "Training loss (for one batch) at batch 6000: 2.5362\n",
            "Training acc (for one batch) at batch 6000: 0.1088\n",
            "Training loss over epoch: 2.5350\n",
            "Training acc over epoch: 0.1088\n",
            "Validation loss: 2.6272\n",
            "Validation acc: 0.1077\n",
            "Time taken: 1830.90s\n",
            "\n",
            "Start of epoch 12\n",
            "Training loss (for one batch) at batch 0: 2.6427\n",
            "Training acc (for one batch) at batch 0: 0.1063\n",
            "Training loss (for one batch) at batch 1000: 2.5197\n",
            "Training acc (for one batch) at batch 1000: 0.1093\n",
            "Training loss (for one batch) at batch 2000: 2.5207\n",
            "Training acc (for one batch) at batch 2000: 0.1092\n",
            "Training loss (for one batch) at batch 3000: 2.5230\n",
            "Training acc (for one batch) at batch 3000: 0.1092\n",
            "Training loss (for one batch) at batch 4000: 2.5217\n",
            "Training acc (for one batch) at batch 4000: 0.1093\n",
            "Training loss (for one batch) at batch 5000: 2.5230\n",
            "Training acc (for one batch) at batch 5000: 0.1093\n",
            "Training loss (for one batch) at batch 6000: 2.5225\n",
            "Training acc (for one batch) at batch 6000: 0.1093\n",
            "Training loss over epoch: 2.5218\n",
            "Training acc over epoch: 0.1093\n",
            "Validation loss: 2.6192\n",
            "Validation acc: 0.1080\n",
            "Time taken: 1831.48s\n"
          ]
        }
      ],
      "source": [
        "# use!!!!!!!!!!!!!!!\n",
        "import time\n",
        "EPOCHS = 20\n",
        "patience = 5\n",
        "wait = 0\n",
        "best = 0\n",
        "\n",
        "for epoch in range(EPOCHS):\n",
        "    print(\"\\nStart of epoch %d\" % (epoch,))\n",
        "    start_time = time.time()\n",
        "\n",
        "    # Iterate over the batches of the dataset.\n",
        "    for batch, (inp, tar) in enumerate(train_dataset):\n",
        "        train_step(inp, tar)\n",
        "\n",
        "        # Log every 1000 batches.\n",
        "        if batch % 1000 == 0:\n",
        "            print(\"Training loss (for one batch) at batch %d: %.4f\" % (batch, float(train_loss.result())))\n",
        "            print(\"Training acc (for one batch) at batch %d: %.4f\" % (batch, float(train_accuracy.result())))\n",
        "\n",
        "    \n",
        "    # Display metrics at the end of each epoch.\n",
        "    #train_loss = train_loss.result()\n",
        "    print(\"Training loss over epoch: %.4f\" % (float(train_loss.result()),))\n",
        "\n",
        "    #train_acc = train_accuracy.result()\n",
        "    print(\"Training acc over epoch: %.4f\" % (float(train_accuracy.result()),))\n",
        "\n",
        "    train_loss_plot.append(train_loss.result())\n",
        "    train_acc_plot.append(train_accuracy.result())\n",
        "\n",
        "    # Reset training metrics at the end of each epoch\n",
        "    train_loss.reset_states()\n",
        "    train_accuracy.reset_states()\n",
        "\n",
        "    # Run a validation loop at the end of each epoch.\n",
        "    for val_inp, val_tar in val_dataset:\n",
        "        test_step(val_inp, val_tar)\n",
        "\n",
        "    #val_loss = val_loss.result()\n",
        "    #val_acc = val_accuracy.result()\n",
        "    \n",
        "    print(\"Validation loss: %.4f\" % (float(val_loss.result()),))\n",
        "    print(\"Validation acc: %.4f\" % (float(val_accuracy.result()),))\n",
        "\n",
        "    val_loss_plot.append(val_loss.result())\n",
        "    val_acc_plot.append(val_accuracy.result())\n",
        "\n",
        "    if (epoch + 1) % 5 == 0:\n",
        "      checkpoint_path = ckpt_manager.save()\n",
        "      print(f'Saving checkpoint for epoch {epoch+1} at {checkpoint_path}')\n",
        "\n",
        "    print(\"Time taken: %.2fs\" % (time.time() - start_time))\n",
        "    val_loss.reset_states()\n",
        "    val_accuracy.reset_states()\n",
        "\n",
        "     # early stopping \n",
        "    wait += 1\n",
        "    if val_loss > best:\n",
        "      best = val_loss\n",
        "      wait = 0\n",
        "    if wait >= patience:\n",
        "      break"
      ]
    },
    {
      "cell_type": "code",
      "source": [
        "plt.plot(train_loss_plot)\n",
        "plt.plot(val_loss_plot)\n",
        "plt.xlabel('Epochs')\n",
        "plt.ylabel('Loss')\n",
        "plt.title('Model Loss')\n",
        "plt.legend(['training', 'validation'], loc='upper right')\n",
        "plt.grid()\n",
        "plt.show()"
      ],
      "metadata": {
        "colab": {
          "base_uri": "https://localhost:8080/",
          "height": 295
        },
        "id": "aAomHmNAvZGe",
        "outputId": "c66334bd-925c-4b9d-edcc-d508c1f01af2"
      },
      "execution_count": null,
      "outputs": [
        {
          "output_type": "display_data",
          "data": {
            "image/png": "[encoded data removed]",
            "text/plain": [
              "<Figure size 432x288 with 1 Axes>"
            ]
          },
          "metadata": {
            "needs_background": "light"
          }
        }
      ]
    },
    {
      "cell_type": "code",
      "execution_count": null,
      "metadata": {
        "colab": {
          "base_uri": "https://localhost:8080/",
          "height": 295
        },
        "id": "tng2G9LrKha0",
        "outputId": "9b7872bb-2fca-4985-8ced-8866320862c9"
      },
      "outputs": [
        {
          "output_type": "display_data",
          "data": {
            "image/png": "[encoded data removed]",
            "text/plain": [
              "<Figure size 432x288 with 1 Axes>"
            ]
          },
          "metadata": {
            "needs_background": "light"
          }
        }
      ],
      "source": [
        "plt.plot(train_acc_plot)\n",
        "plt.plot(val_acc_plot)\n",
        "plt.xlabel('Epochs')\n",
        "plt.ylabel('Accuracy')\n",
        "plt.title('Model Accuracy')\n",
        "plt.legend(['train', 'val'], loc='upper left')\n",
        "plt.grid()\n",
        "plt.show()"
      ]
    },
    {
      "cell_type": "code",
      "execution_count": null,
      "metadata": {
        "colab": {
          "base_uri": "https://localhost:8080/"
        },
        "id": "iXXc_VSeKha0",
        "outputId": "cfde88b5-aaaa-4ccd-d87d-bbb2b9c0eb25"
      },
      "outputs": [
        {
          "output_type": "stream",
          "name": "stdout",
          "text": [
            "Model: \"transformer\"\n",
            "_________________________________________________________________\n",
            " Layer (type)                Output Shape              Param #   \n",
            "=================================================================\n",
            " visual_res_net_encoder (Vis  multiple                 37246336  \n",
            " ualResNetEncoder)                                               \n",
            "                                                                 \n",
            " decoder (Decoder)           multiple                  21936640  \n",
            "                                                                 \n",
            " dense_65 (Dense)            multiple                  5130513   \n",
            "                                                                 \n",
            "=================================================================\n",
            "Total params: 64,313,489\n",
            "Trainable params: 40,725,777\n",
            "Non-trainable params: 23,587,712\n",
            "_________________________________________________________________\n"
          ]
        }
      ],
      "source": [
        "transformer.summary()"
      ]
    },
    {
      "cell_type": "code",
      "source": [
        "# Restore from checkpoints\n",
        "\n",
        "checkpoint_path = \"./checkpoints/trans\"\n",
        "\n",
        "ckpt = tf.train.Checkpoint(transformer=transformer, optimizer=trans_optimizer)\n",
        "\n",
        "ckpt_manager = tf.train.CheckpointManager(ckpt, checkpoint_path, \n",
        "                                          max_to_keep=5)\n",
        "\n",
        "# if a checkpoint exists, restore the latest checkpoint.\n",
        "if ckpt_manager.latest_checkpoint:\n",
        "    ckpt.restore(ckpt_manager.latest_checkpoint)\n",
        "    print('Latest checkpoint restored!!')"
      ],
      "metadata": {
        "colab": {
          "base_uri": "https://localhost:8080/"
        },
        "id": "dKmVVUfgFG-A",
        "outputId": "e2fb47d9-bcc5-4f55-f7f1-525060dcf74b"
      },
      "execution_count": null,
      "outputs": [
        {
          "output_type": "stream",
          "name": "stdout",
          "text": [
            "Latest checkpoint restored!!\n"
          ]
        }
      ]
    },
    {
      "cell_type": "markdown",
      "source": [
        "## Inference"
      ],
      "metadata": {
        "id": "_YkAcMynwKwK"
      }
    },
    {
      "cell_type": "code",
      "execution_count": null,
      "metadata": {
        "id": "Dg-kH96td3cW"
      },
      "outputs": [],
      "source": [
        "# use!!!!!!!!!!!!!\n",
        "def evaluate(image, max_length=16):\n",
        "   image = tf.io.read_file(image)\n",
        "   image = tf.io.decode_jpeg(image, channels=3)\n",
        "   image = tf.image.resize(image, size=(224, 224))\n",
        "   image = tf.expand_dims(image, axis=0)\n",
        "   image = preprocess_input(image)\n",
        "   \n",
        "   start_token = tokenizer.word_index['<start>']\n",
        "   end_token = tokenizer.word_index['<end>']\n",
        "   decoder_input = [start_token]\n",
        "   output = tf.expand_dims(decoder_input, 0) #tokens\n",
        "   result = [] #word list\n",
        "\n",
        "   for i in range(max_length):\n",
        "      enc_padding_mask, combined_mask, dec_padding_mask = create_masks(image, output)\n",
        "      predictions, attention_weights = transformer(image, output, False, enc_padding_mask,\n",
        "                                     combined_mask, dec_padding_mask)\n",
        "      predictions = predictions[: ,-1:, :]  # (batch_size, 1, vocab_size)\n",
        "      predicted_id = tf.cast(tf.argmax(predictions, axis=-1), tf.int32)\n",
        "      if predicted_id == end_token:\n",
        "         return result,tf.squeeze(output, axis=0), attention_weights\n",
        "      result.append(tokenizer.index_word[int(predicted_id)])\n",
        "      output = tf.concat([output, predicted_id], axis=-1)\n",
        "\n",
        "   return result, tf.squeeze(output, axis=0), attention_weights"
      ]
    },
    {
      "cell_type": "code",
      "source": [
        "# clean test captions\n",
        "for key, captions in test_data.items():   \n",
        "    for i, caption in enumerate (captions):\n",
        "        caption_nopunct = re.sub(r\"[^a-zA-Z0-9]+\", ' ', caption.lower())\n",
        "        clean_words = [word for word in caption_nopunct.split()]\n",
        "        clean_words = clean_words[1:-1]\n",
        "        caption_new = ' '.join(clean_words)\n",
        "        captions[i] = caption_new"
      ],
      "metadata": {
        "id": "ckCh-zjxj0J3"
      },
      "execution_count": null,
      "outputs": []
    },
    {
      "cell_type": "code",
      "source": [
        "# use!!!!!!!!!!!!!!!!!!!!!!\n",
        "image = np.random.choice(test_keys)\n",
        "caption, result, attention_weights = evaluate(image)\n",
        "res_join = ' '.join(caption)\n",
        "gt = test_data[image]\n",
        "base, attention_plot = evaluate_base(image)\n",
        "base = ' '.join(base[:-1])\n",
        "img = mpimg.imread(image)\n",
        "h, w, _= np.shape(img)\n",
        "img_plate=np.zeros((h, w + 150, 3), dtype=np.uint8) + 255\n",
        "img_plate[0:h, 0:w, :] = img\n",
        "\n",
        "dpi = 50\n",
        "figsize = 0.8 * w / float(dpi), 0.8 * h / float(dpi)\n",
        "\n",
        "fig = plt.figure(figsize=figsize, dpi=dpi)\n",
        "ax = fig.add_subplot(111)\n",
        "ax.text(w + 20, 40, 'Ground truth:', fontsize=20)\n",
        "ax.text(w + 20, 210, '\\n'.join(gt), fontsize=18)\n",
        "\n",
        "ax.text(w + 20, 270, 'Transformer:', fontsize=20)\n",
        "ax.text(w + 20, 310, res_join, fontsize=18)\n",
        "\n",
        "ax.text(w + 20, 370, 'Baseline:', fontsize=20)\n",
        "ax.text(w + 20, 410, base, fontsize=18)\n",
        "\n",
        "plt.axis('off')\n",
        "plt.imshow(img_plate)"
      ],
      "metadata": {
        "colab": {
          "base_uri": "https://localhost:8080/",
          "height": 338
        },
        "id": "VmsDWPwE7MPV",
        "outputId": "779698d5-3217-4281-9a93-30903259558f"
      },
      "execution_count": null,
      "outputs": [
        {
          "output_type": "execute_result",
          "data": {
            "text/plain": [
              "<matplotlib.image.AxesImage at 0x7f2a3eb246d0>"
            ]
          },
          "metadata": {},
          "execution_count": 112
        },
        {
          "output_type": "display_data",
          "data": {
            "image/png": "[encoded data removed]",
            "text/plain": [
              "<Figure size 340x512 with 1 Axes>"
            ]
          },
          "metadata": {
            "needs_background": "light"
          }
        }
      ]
    },
    {
      "cell_type": "markdown",
      "source": [
        "## Test evaluation"
      ],
      "metadata": {
        "id": "v416TKXcwP4v"
      }
    },
    {
      "cell_type": "code",
      "source": [
        "def generate_test_captions(test_images, max_length=16):\n",
        "    captions = []\n",
        "    for i, image in tqdm(enumerate(test_images)):\n",
        "        captions.append(evaluate(image, max_length)[0])\n",
        "\n",
        "    return captions"
      ],
      "metadata": {
        "id": "S-WzviuQ1v_-"
      },
      "execution_count": null,
      "outputs": []
    },
    {
      "cell_type": "code",
      "source": [
        "generated_captions = generate_test_captions(test_keys)"
      ],
      "metadata": {
        "colab": {
          "base_uri": "https://localhost:8080/"
        },
        "id": "IgTrH-PqoWUf",
        "outputId": "3bedc09f-a417-44f0-a26a-a4918a720daf"
      },
      "execution_count": null,
      "outputs": [
        {
          "output_type": "stream",
          "name": "stderr",
          "text": [
            "5000it [2:44:04,  1.97s/it]\n"
          ]
        }
      ]
    },
    {
      "cell_type": "code",
      "source": [
        "generated_captions[:2]"
      ],
      "metadata": {
        "colab": {
          "base_uri": "https://localhost:8080/"
        },
        "id": "fm3vPaYP81Sk",
        "outputId": "0fe6b698-d4f2-43cc-b611-3f2bea407600"
      },
      "execution_count": null,
      "outputs": [
        {
          "output_type": "execute_result",
          "data": {
            "text/plain": [
              "[['a', 'vase', 'with', 'flowers', 'sitting', 'on', 'a', 'table'],\n",
              " ['a', 'man', 'riding', 'a', 'horse', 'in', 'front', 'of', 'a', 'building']]"
            ]
          },
          "metadata": {},
          "execution_count": 64
        }
      ]
    },
    {
      "cell_type": "code",
      "source": [
        "join_cap = [' '.join(i) for i in generated_captions]\n",
        "join_cap[:2]"
      ],
      "metadata": {
        "colab": {
          "base_uri": "https://localhost:8080/"
        },
        "id": "2no3C75q-Oe4",
        "outputId": "63c1c978-286c-4884-9f35-81195c49c65d"
      },
      "execution_count": null,
      "outputs": [
        {
          "output_type": "execute_result",
          "data": {
            "text/plain": [
              "['a vase with flowers sitting on a table',\n",
              " 'a man riding a horse in front of a building']"
            ]
          },
          "metadata": {},
          "execution_count": 65
        }
      ]
    },
    {
      "cell_type": "code",
      "source": [
        "pred_captions = []\n",
        "\n",
        "for i, j in zip(test_keys, join_cap):\n",
        "    pred_captions.append({\"image_id\": int(i[27:33]), \"caption\": j})"
      ],
      "metadata": {
        "id": "mSphqMVy-m2C"
      },
      "execution_count": null,
      "outputs": []
    },
    {
      "cell_type": "code",
      "source": [
        "with open('pred_captions_trans.json', 'w') as fp:\n",
        "    json.dump(pred_captions, fp)"
      ],
      "metadata": {
        "id": "xZqSkA7i--Qc"
      },
      "execution_count": null,
      "outputs": []
    },
    {
      "cell_type": "code",
      "source": [
        "pred_captions[:2]"
      ],
      "metadata": {
        "colab": {
          "base_uri": "https://localhost:8080/"
        },
        "id": "Acfs1w3y-mwH",
        "outputId": "07f98beb-f62a-43ac-c0e0-8385a3cea16a"
      },
      "execution_count": null,
      "outputs": [
        {
          "output_type": "execute_result",
          "data": {
            "text/plain": [
              "[{'caption': 'a vase with flowers sitting on a table', 'image_id': 248085},\n",
              " {'caption': 'a man riding a horse in front of a building',\n",
              "  'image_id': 376208}]"
            ]
          },
          "metadata": {},
          "execution_count": 67
        }
      ]
    },
    {
      "cell_type": "code",
      "source": [
        "pip install pycocoevalcap"
      ],
      "metadata": {
        "colab": {
          "base_uri": "https://localhost:8080/"
        },
        "id": "Z_jV-jZM-msZ",
        "outputId": "7de7dcfb-c957-4b84-e592-a429e3dff913"
      },
      "execution_count": null,
      "outputs": [
        {
          "output_type": "stream",
          "name": "stdout",
          "text": [
            "Collecting pycocoevalcap\n",
            "  Downloading pycocoevalcap-1.2-py3-none-any.whl (104.3 MB)\n",
            "\u001b[K     |████████████████████████████████| 104.3 MB 1.2 MB/s \n",
            "\u001b[?25hRequirement already satisfied: pycocotools>=2.0.2 in /usr/local/lib/python3.7/dist-packages (from pycocoevalcap) (2.0.4)\n",
            "Requirement already satisfied: matplotlib>=2.1.0 in /usr/local/lib/python3.7/dist-packages (from pycocotools>=2.0.2->pycocoevalcap) (3.2.2)\n",
            "Requirement already satisfied: numpy in /usr/local/lib/python3.7/dist-packages (from pycocotools>=2.0.2->pycocoevalcap) (1.21.5)\n",
            "Requirement already satisfied: pyparsing!=2.0.4,!=2.1.2,!=2.1.6,>=2.0.1 in /usr/local/lib/python3.7/dist-packages (from matplotlib>=2.1.0->pycocotools>=2.0.2->pycocoevalcap) (3.0.7)\n",
            "Requirement already satisfied: kiwisolver>=1.0.1 in /usr/local/lib/python3.7/dist-packages (from matplotlib>=2.1.0->pycocotools>=2.0.2->pycocoevalcap) (1.3.2)\n",
            "Requirement already satisfied: python-dateutil>=2.1 in /usr/local/lib/python3.7/dist-packages (from matplotlib>=2.1.0->pycocotools>=2.0.2->pycocoevalcap) (2.8.2)\n",
            "Requirement already satisfied: cycler>=0.10 in /usr/local/lib/python3.7/dist-packages (from matplotlib>=2.1.0->pycocotools>=2.0.2->pycocoevalcap) (0.11.0)\n",
            "Requirement already satisfied: six>=1.5 in /usr/local/lib/python3.7/dist-packages (from python-dateutil>=2.1->matplotlib>=2.1.0->pycocotools>=2.0.2->pycocoevalcap) (1.15.0)\n",
            "Installing collected packages: pycocoevalcap\n",
            "Successfully installed pycocoevalcap-1.2\n"
          ]
        }
      ]
    },
    {
      "cell_type": "code",
      "source": [
        "from pycocotools.coco import COCO\n",
        "from pycocoevalcap.eval import COCOEvalCap\n",
        "import json\n",
        "from json import encoder\n",
        "encoder.FLOAT_REPR = lambda o: format(o, '.3f')\n",
        "import sys\n",
        "\n",
        "input_json = sys.argv[1]\n",
        "\n",
        "\n",
        "annFile = 'annotations/captions_val2014.json'\n",
        "coco = COCO(annFile)\n",
        "valids = coco.getImgIds()\n",
        "\n",
        "load = json.load(open('pred_captions_trans.json', 'r'))"
      ],
      "metadata": {
        "colab": {
          "base_uri": "https://localhost:8080/"
        },
        "id": "MJYdfi2x-4pK",
        "outputId": "7e329c2c-a5ce-48c6-e577-bb8af1a325c4"
      },
      "execution_count": null,
      "outputs": [
        {
          "output_type": "stream",
          "name": "stdout",
          "text": [
            "loading annotations into memory...\n",
            "Done (t=0.35s)\n",
            "creating index...\n",
            "index created!\n"
          ]
        }
      ]
    },
    {
      "cell_type": "code",
      "source": [
        "# filter results to only those in MSCOCO validation set\n",
        "preds_filt = [p for p in load if p['image_id'] in valids]\n",
        "print('using %d/%d predictions' % (len(preds_filt), len(load)))\n",
        "json.dump(preds_filt, open('tmp.json', 'w'))"
      ],
      "metadata": {
        "colab": {
          "base_uri": "https://localhost:8080/"
        },
        "id": "SXH7r3t0-4lb",
        "outputId": "af2e8a19-7fde-4816-d02c-bdbf084cfc91"
      },
      "execution_count": null,
      "outputs": [
        {
          "output_type": "stream",
          "name": "stdout",
          "text": [
            "using 5000/5000 predictions\n"
          ]
        }
      ]
    },
    {
      "cell_type": "code",
      "source": [
        "cocoRes = coco.loadRes(preds_filt)\n",
        "cocoEval = COCOEvalCap(coco, cocoRes)\n",
        "cocoEval.params['image_id'] = cocoRes.getImgIds()\n",
        "cocoEval.evaluate()\n",
        "\n",
        "# create output dictionary\n",
        "out = {}\n",
        "for metric, score in cocoEval.eval.items():\n",
        "    out[metric] = score"
      ],
      "metadata": {
        "colab": {
          "base_uri": "https://localhost:8080/"
        },
        "id": "wVZMP3vd-4iC",
        "outputId": "9672872d-0dec-4056-9680-f41f457dbd73"
      },
      "execution_count": null,
      "outputs": [
        {
          "output_type": "stream",
          "name": "stdout",
          "text": [
            "Loading and preparing results...\n",
            "DONE (t=0.03s)\n",
            "creating index...\n",
            "index created!\n",
            "tokenization...\n",
            "setting up scorers...\n",
            "Downloading stanford-corenlp-3.6.0 for SPICE ...\n",
            "Progress: 384.5M / 384.5M (100.0%)\n",
            "Extracting stanford-corenlp-3.6.0 ...\n",
            "Done.\n",
            "computing Bleu score...\n",
            "{'testlen': 48152, 'reflen': 47865, 'guess': [48152, 43152, 38152, 33152], 'correct': [30236, 13369, 5431, 2391]}\n",
            "ratio: 1.0059960305024338\n",
            "Bleu_1: 0.628\n",
            "Bleu_2: 0.441\n",
            "Bleu_3: 0.303\n",
            "Bleu_4: 0.211\n",
            "computing METEOR score...\n",
            "METEOR: 0.203\n",
            "computing Rouge score...\n",
            "ROUGE_L: 0.462\n",
            "computing CIDEr score...\n",
            "CIDEr: 0.647\n",
            "computing SPICE score...\n",
            "SPICE: 0.128\n"
          ]
        }
      ]
    },
    {
      "cell_type": "code",
      "execution_count": null,
      "metadata": {
        "id": "k1NJI98QCy6E"
      },
      "outputs": [],
      "source": [
        ""
      ]
    }
  ],
  "metadata": {
    "accelerator": "GPU",
    "colab": {
      "collapsed_sections": [],
      "machine_shape": "hm",
      "name": "image_captioning_fin.ipynb",
      "provenance": [],
      "toc_visible": true,
      "authorship_tag": "ABX9TyN1wq7h6E8AZcE+E2j9xOkF",
      "include_colab_link": true
    },
    "kernelspec": {
      "display_name": "Python 3",
      "name": "python3"
    },
    "language_info": {
      "name": "python"
    }
  },
  "nbformat": 4,
  "nbformat_minor": 0
}